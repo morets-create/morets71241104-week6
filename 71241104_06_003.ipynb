{
  "nbformat": 4,
  "nbformat_minor": 0,
  "metadata": {
    "colab": {
      "provenance": []
    },
    "kernelspec": {
      "name": "python3",
      "display_name": "Python 3"
    },
    "language_info": {
      "name": "python"
    }
  },
  "cells": [
    {
      "cell_type": "code",
      "execution_count": 3,
      "metadata": {
        "colab": {
          "base_uri": "https://localhost:8080/"
        },
        "id": "KApvZMpeecTZ",
        "outputId": "b8294f40-263a-420b-bfb5-8481f1d867c0"
      },
      "outputs": [
        {
          "output_type": "stream",
          "name": "stdout",
          "text": [
            "Masukkan jumlah mata kuliah: 6\n",
            "Nilai MK 1 :A\n",
            "Nilai MK 2 :B\n",
            "Nilai MK 3 :C\n",
            "Nilai MK 4 :A\n",
            "Nilai MK 5 :D\n",
            "Nilai MK 6 :C\n",
            "Indeks Prestasi Semester (IPS) Anda adalah: 2.67\n"
          ]
        }
      ],
      "source": [
        "\n",
        "jumlah_mk = int(input(\"Masukkan jumlah mata kuliah: \"))\n",
        "\n",
        "\n",
        "total_sks = 0\n",
        "total_nilai = 0\n",
        "\n",
        "bobot_nilai = {'A': 4, 'B': 3, 'C': 2, 'D': 1}\n",
        "\n",
        "\n",
        "for i in range(jumlah_mk):\n",
        "    nilai = input(f\"Nilai MK {i+1} :\").upper()\n",
        "\n",
        "    if nilai in bobot_nilai:\n",
        "        total_nilai += bobot_nilai[nilai] * 3\n",
        "        total_sks += 3\n",
        "    else:\n",
        "        print(\"Nilai tidak valid, masukkan A, B, C, atau D.\")\n",
        "        break\n",
        "\n",
        "if total_sks > 0:\n",
        "    ips = total_nilai / total_sks\n",
        "    print(f\"Indeks Prestasi Semester (IPS) Anda adalah: {ips:.2f}\")\n"
      ]
    }
  ]
}