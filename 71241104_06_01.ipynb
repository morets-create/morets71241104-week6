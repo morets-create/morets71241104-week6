{
  "nbformat": 4,
  "nbformat_minor": 0,
  "metadata": {
    "colab": {
      "provenance": []
    },
    "kernelspec": {
      "name": "python3",
      "display_name": "Python 3"
    },
    "language_info": {
      "name": "python"
    }
  },
  "cells": [
    {
      "cell_type": "code",
      "execution_count": 1,
      "metadata": {
        "colab": {
          "base_uri": "https://localhost:8080/"
        },
        "id": "1LC19lAMXVEv",
        "outputId": "ef17bdc1-5fd9-41db-a417-51dcd7623acf"
      },
      "outputs": [
        {
          "output_type": "stream",
          "name": "stdout",
          "text": [
            "30\n",
            "70\n"
          ]
        }
      ],
      "source": [
        "def perkalian(a, b):\n",
        "    hasil = 0\n",
        "    for _ in range(a):\n",
        "        hasil += b\n",
        "    return hasil\n",
        "\n",
        "\n",
        "print(perkalian(6, 5))\n",
        "print(perkalian(7, 10))"
      ]
    }
  ]
}