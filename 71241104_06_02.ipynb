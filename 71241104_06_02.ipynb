{
  "nbformat": 4,
  "nbformat_minor": 0,
  "metadata": {
    "colab": {
      "provenance": []
    },
    "kernelspec": {
      "name": "python3",
      "display_name": "Python 3"
    },
    "language_info": {
      "name": "python"
    }
  },
  "cells": [
    {
      "cell_type": "code",
      "execution_count": 1,
      "metadata": {
        "colab": {
          "base_uri": "https://localhost:8080/"
        },
        "id": "1LC19lAMXVEv",
        "outputId": "ef17bdc1-5fd9-41db-a417-51dcd7623acf"
      },
      "outputs": [
        {
          "output_type": "stream",
          "name": "stdout",
          "text": [
            "30\n",
            "70\n"
          ]
        }
      ],
      "source": [
        "def ganjil(bawah, atas):\n",
        "    if bawah < atas:\n",
        "        return [i for i in range(bawah, atas) if i % 2 == 1]\n",
        "    else:\n",
        "        return [i for i in range(bawah, atas, -1) if i % 2 == 1]\n",
        "\n",
        "\n",
        "bawah1, atas1 = 10, 30\n",
        "bawah2, atas2 = 97, 82\n",
        "\n",
        "print(\"Hasil pertama:\", ganjil(bawah1, atas1))\n",
        "print(\"Hasil kedua:\", ganjil(bawah2, atas2))\n",
        ""
      ]
    }
  ]
}